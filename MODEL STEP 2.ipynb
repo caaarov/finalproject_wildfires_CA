{
 "cells": [
  {
   "cell_type": "code",
   "execution_count": 1,
   "metadata": {},
   "outputs": [
    {
     "name": "stderr",
     "output_type": "stream",
     "text": [
      "Importing plotly failed. Interactive plots will not work.\n"
     ]
    }
   ],
   "source": [
    "# Importing necessary libaries\n",
    "\n",
    "import pandas as pd\n",
    "import numpy as np\n",
    "import julian\n",
    "import datetime\n",
    "\n",
    "import warnings\n",
    "warnings.filterwarnings(\"ignore\", message=\"numpy.ufunc size changed\")\n",
    "warnings.filterwarnings('ignore')\n",
    "warnings.filterwarnings(\"ignore\", message=\"numpy.ufunc size changed\")\n",
    "import matplotlib.pyplot as plt\n",
    "import seaborn as sns\n",
    "%matplotlib inline\n",
    "pd.set_option('display.max_columns', None)\n",
    "\n",
    "import re\n",
    "\n",
    "import h3\n",
    "from fbprophet import Prophet"
   ]
  },
  {
   "cell_type": "code",
   "execution_count": 2,
   "metadata": {},
   "outputs": [],
   "source": [
    "from sklearn.preprocessing import StandardScaler\n",
    "from sklearn.preprocessing import MinMaxScaler\n",
    "from sklearn.preprocessing import Normalizer"
   ]
  },
  {
   "cell_type": "markdown",
   "metadata": {},
   "source": [
    "# Loading data"
   ]
  },
  {
   "cell_type": "code",
   "execution_count": 3,
   "metadata": {},
   "outputs": [],
   "source": [
    "df_fires_rare=pd.read_csv(\"/Users/carolinvogt/Becoming_Data_Analyst/final_project/wildfire_project/df_fires_rare_model1.csv\")\n",
    "df_fires_rare.drop([\"Unnamed: 0\"],axis=1, inplace=True)\n",
    "\n"
   ]
  },
  {
   "cell_type": "code",
   "execution_count": 4,
   "metadata": {},
   "outputs": [],
   "source": [
    "df_final_model1=pd.read_csv(\"/Users/carolinvogt/Becoming_Data_Analyst/final_project/wildfire_project/df_final_model_step1.csv\")\n",
    "df_final_model1.drop([\"Unnamed: 0\"],axis=1, inplace=True)"
   ]
  },
  {
   "cell_type": "code",
   "execution_count": 5,
   "metadata": {},
   "outputs": [],
   "source": [
    "#df_fires_rare"
   ]
  },
  {
   "cell_type": "code",
   "execution_count": 6,
   "metadata": {},
   "outputs": [],
   "source": [
    "#df_final_model1"
   ]
  },
  {
   "cell_type": "code",
   "execution_count": 7,
   "metadata": {},
   "outputs": [
    {
     "data": {
      "text/html": [
       "<div>\n",
       "<style scoped>\n",
       "    .dataframe tbody tr th:only-of-type {\n",
       "        vertical-align: middle;\n",
       "    }\n",
       "\n",
       "    .dataframe tbody tr th {\n",
       "        vertical-align: top;\n",
       "    }\n",
       "\n",
       "    .dataframe thead th {\n",
       "        text-align: right;\n",
       "    }\n",
       "</style>\n",
       "<table border=\"1\" class=\"dataframe\">\n",
       "  <thead>\n",
       "    <tr style=\"text-align: right;\">\n",
       "      <th></th>\n",
       "      <th>date</th>\n",
       "      <th>h3_level_4</th>\n",
       "      <th>fire_date</th>\n",
       "      <th>cause_id</th>\n",
       "      <th>fire_size</th>\n",
       "      <th>avgTemp</th>\n",
       "      <th>avgPerc</th>\n",
       "      <th>avgWind</th>\n",
       "      <th>index_fires</th>\n",
       "      <th>month</th>\n",
       "      <th>q_avg_temp</th>\n",
       "      <th>y_avg_temp</th>\n",
       "      <th>q_sum_perc</th>\n",
       "      <th>urban_areas</th>\n",
       "      <th>lat</th>\n",
       "      <th>lng</th>\n",
       "    </tr>\n",
       "  </thead>\n",
       "  <tbody>\n",
       "    <tr>\n",
       "      <th>30</th>\n",
       "      <td>2003-01-01</td>\n",
       "      <td>8429a51ffffffff</td>\n",
       "      <td>1</td>\n",
       "      <td>13.0</td>\n",
       "      <td>2.0</td>\n",
       "      <td>35.01140</td>\n",
       "      <td>6.100000</td>\n",
       "      <td>1.925</td>\n",
       "      <td>145751.0</td>\n",
       "      <td>1</td>\n",
       "      <td>34.550000</td>\n",
       "      <td>34.550000</td>\n",
       "      <td>162.300000</td>\n",
       "      <td>0</td>\n",
       "      <td>33.363745</td>\n",
       "      <td>-118.424787</td>\n",
       "    </tr>\n",
       "    <tr>\n",
       "      <th>70</th>\n",
       "      <td>2006-07-01</td>\n",
       "      <td>8429a51ffffffff</td>\n",
       "      <td>1</td>\n",
       "      <td>1.0</td>\n",
       "      <td>3.0</td>\n",
       "      <td>36.34520</td>\n",
       "      <td>0.000000</td>\n",
       "      <td>2.425</td>\n",
       "      <td>145767.0</td>\n",
       "      <td>7</td>\n",
       "      <td>36.088700</td>\n",
       "      <td>36.088700</td>\n",
       "      <td>0.000000</td>\n",
       "      <td>0</td>\n",
       "      <td>33.363745</td>\n",
       "      <td>-118.424787</td>\n",
       "    </tr>\n",
       "    <tr>\n",
       "      <th>134</th>\n",
       "      <td>2012-03-01</td>\n",
       "      <td>8429a51ffffffff</td>\n",
       "      <td>1</td>\n",
       "      <td>2.0</td>\n",
       "      <td>1.0</td>\n",
       "      <td>34.18340</td>\n",
       "      <td>25.100000</td>\n",
       "      <td>2.650</td>\n",
       "      <td>157655.0</td>\n",
       "      <td>3</td>\n",
       "      <td>34.410200</td>\n",
       "      <td>34.410200</td>\n",
       "      <td>96.200000</td>\n",
       "      <td>0</td>\n",
       "      <td>33.363745</td>\n",
       "      <td>-118.424787</td>\n",
       "    </tr>\n",
       "    <tr>\n",
       "      <th>246</th>\n",
       "      <td>1997-08-01</td>\n",
       "      <td>8429a43ffffffff</td>\n",
       "      <td>1</td>\n",
       "      <td>9.0</td>\n",
       "      <td>1.0</td>\n",
       "      <td>35.88560</td>\n",
       "      <td>0.000000</td>\n",
       "      <td>2.700</td>\n",
       "      <td>130262.0</td>\n",
       "      <td>8</td>\n",
       "      <td>35.804400</td>\n",
       "      <td>35.804400</td>\n",
       "      <td>22.000000</td>\n",
       "      <td>0</td>\n",
       "      <td>33.144796</td>\n",
       "      <td>-117.576960</td>\n",
       "    </tr>\n",
       "    <tr>\n",
       "      <th>380</th>\n",
       "      <td>2008-10-01</td>\n",
       "      <td>8429a43ffffffff</td>\n",
       "      <td>1</td>\n",
       "      <td>13.0</td>\n",
       "      <td>3.0</td>\n",
       "      <td>35.41460</td>\n",
       "      <td>0.850000</td>\n",
       "      <td>2.000</td>\n",
       "      <td>64852.0</td>\n",
       "      <td>10</td>\n",
       "      <td>34.859800</td>\n",
       "      <td>34.859800</td>\n",
       "      <td>125.058333</td>\n",
       "      <td>0</td>\n",
       "      <td>33.144796</td>\n",
       "      <td>-117.576960</td>\n",
       "    </tr>\n",
       "    <tr>\n",
       "      <th>...</th>\n",
       "      <td>...</td>\n",
       "      <td>...</td>\n",
       "      <td>...</td>\n",
       "      <td>...</td>\n",
       "      <td>...</td>\n",
       "      <td>...</td>\n",
       "      <td>...</td>\n",
       "      <td>...</td>\n",
       "      <td>...</td>\n",
       "      <td>...</td>\n",
       "      <td>...</td>\n",
       "      <td>...</td>\n",
       "      <td>...</td>\n",
       "      <td>...</td>\n",
       "      <td>...</td>\n",
       "      <td>...</td>\n",
       "    </tr>\n",
       "    <tr>\n",
       "      <th>2108355</th>\n",
       "      <td>2015-09-01</td>\n",
       "      <td>8428325ffffffff</td>\n",
       "      <td>1</td>\n",
       "      <td>7.0</td>\n",
       "      <td>1.0</td>\n",
       "      <td>35.42495</td>\n",
       "      <td>0.433333</td>\n",
       "      <td>2.600</td>\n",
       "      <td>176141.0</td>\n",
       "      <td>9</td>\n",
       "      <td>35.714667</td>\n",
       "      <td>35.714667</td>\n",
       "      <td>323.366667</td>\n",
       "      <td>0</td>\n",
       "      <td>38.935185</td>\n",
       "      <td>-120.487990</td>\n",
       "    </tr>\n",
       "    <tr>\n",
       "      <th>2108356</th>\n",
       "      <td>2015-09-01</td>\n",
       "      <td>8428325ffffffff</td>\n",
       "      <td>1</td>\n",
       "      <td>7.0</td>\n",
       "      <td>1.0</td>\n",
       "      <td>35.42495</td>\n",
       "      <td>0.433333</td>\n",
       "      <td>2.600</td>\n",
       "      <td>178932.0</td>\n",
       "      <td>9</td>\n",
       "      <td>35.714667</td>\n",
       "      <td>35.714667</td>\n",
       "      <td>323.366667</td>\n",
       "      <td>0</td>\n",
       "      <td>38.935185</td>\n",
       "      <td>-120.487990</td>\n",
       "    </tr>\n",
       "    <tr>\n",
       "      <th>2108357</th>\n",
       "      <td>2015-09-01</td>\n",
       "      <td>8428325ffffffff</td>\n",
       "      <td>1</td>\n",
       "      <td>7.0</td>\n",
       "      <td>1.0</td>\n",
       "      <td>35.42495</td>\n",
       "      <td>0.433333</td>\n",
       "      <td>2.600</td>\n",
       "      <td>178952.0</td>\n",
       "      <td>9</td>\n",
       "      <td>35.714667</td>\n",
       "      <td>35.714667</td>\n",
       "      <td>323.366667</td>\n",
       "      <td>0</td>\n",
       "      <td>38.935185</td>\n",
       "      <td>-120.487990</td>\n",
       "    </tr>\n",
       "    <tr>\n",
       "      <th>2108358</th>\n",
       "      <td>2015-09-01</td>\n",
       "      <td>8428325ffffffff</td>\n",
       "      <td>1</td>\n",
       "      <td>7.0</td>\n",
       "      <td>1.0</td>\n",
       "      <td>35.42495</td>\n",
       "      <td>0.433333</td>\n",
       "      <td>2.600</td>\n",
       "      <td>179846.0</td>\n",
       "      <td>9</td>\n",
       "      <td>35.714667</td>\n",
       "      <td>35.714667</td>\n",
       "      <td>323.366667</td>\n",
       "      <td>0</td>\n",
       "      <td>38.935185</td>\n",
       "      <td>-120.487990</td>\n",
       "    </tr>\n",
       "    <tr>\n",
       "      <th>2108359</th>\n",
       "      <td>2015-10-01</td>\n",
       "      <td>8428325ffffffff</td>\n",
       "      <td>1</td>\n",
       "      <td>9.0</td>\n",
       "      <td>1.0</td>\n",
       "      <td>34.64870</td>\n",
       "      <td>75.700000</td>\n",
       "      <td>2.250</td>\n",
       "      <td>176142.0</td>\n",
       "      <td>10</td>\n",
       "      <td>33.263450</td>\n",
       "      <td>33.263450</td>\n",
       "      <td>540.266667</td>\n",
       "      <td>0</td>\n",
       "      <td>38.935185</td>\n",
       "      <td>-120.487990</td>\n",
       "    </tr>\n",
       "  </tbody>\n",
       "</table>\n",
       "<p>2095442 rows × 16 columns</p>\n",
       "</div>"
      ],
      "text/plain": [
       "               date       h3_level_4  fire_date  cause_id  fire_size  \\\n",
       "30       2003-01-01  8429a51ffffffff          1      13.0        2.0   \n",
       "70       2006-07-01  8429a51ffffffff          1       1.0        3.0   \n",
       "134      2012-03-01  8429a51ffffffff          1       2.0        1.0   \n",
       "246      1997-08-01  8429a43ffffffff          1       9.0        1.0   \n",
       "380      2008-10-01  8429a43ffffffff          1      13.0        3.0   \n",
       "...             ...              ...        ...       ...        ...   \n",
       "2108355  2015-09-01  8428325ffffffff          1       7.0        1.0   \n",
       "2108356  2015-09-01  8428325ffffffff          1       7.0        1.0   \n",
       "2108357  2015-09-01  8428325ffffffff          1       7.0        1.0   \n",
       "2108358  2015-09-01  8428325ffffffff          1       7.0        1.0   \n",
       "2108359  2015-10-01  8428325ffffffff          1       9.0        1.0   \n",
       "\n",
       "          avgTemp    avgPerc  avgWind  index_fires  month  q_avg_temp  \\\n",
       "30       35.01140   6.100000    1.925     145751.0      1   34.550000   \n",
       "70       36.34520   0.000000    2.425     145767.0      7   36.088700   \n",
       "134      34.18340  25.100000    2.650     157655.0      3   34.410200   \n",
       "246      35.88560   0.000000    2.700     130262.0      8   35.804400   \n",
       "380      35.41460   0.850000    2.000      64852.0     10   34.859800   \n",
       "...           ...        ...      ...          ...    ...         ...   \n",
       "2108355  35.42495   0.433333    2.600     176141.0      9   35.714667   \n",
       "2108356  35.42495   0.433333    2.600     178932.0      9   35.714667   \n",
       "2108357  35.42495   0.433333    2.600     178952.0      9   35.714667   \n",
       "2108358  35.42495   0.433333    2.600     179846.0      9   35.714667   \n",
       "2108359  34.64870  75.700000    2.250     176142.0     10   33.263450   \n",
       "\n",
       "         y_avg_temp  q_sum_perc  urban_areas        lat         lng  \n",
       "30        34.550000  162.300000            0  33.363745 -118.424787  \n",
       "70        36.088700    0.000000            0  33.363745 -118.424787  \n",
       "134       34.410200   96.200000            0  33.363745 -118.424787  \n",
       "246       35.804400   22.000000            0  33.144796 -117.576960  \n",
       "380       34.859800  125.058333            0  33.144796 -117.576960  \n",
       "...             ...         ...          ...        ...         ...  \n",
       "2108355   35.714667  323.366667            0  38.935185 -120.487990  \n",
       "2108356   35.714667  323.366667            0  38.935185 -120.487990  \n",
       "2108357   35.714667  323.366667            0  38.935185 -120.487990  \n",
       "2108358   35.714667  323.366667            0  38.935185 -120.487990  \n",
       "2108359   33.263450  540.266667            0  38.935185 -120.487990  \n",
       "\n",
       "[2095442 rows x 16 columns]"
      ]
     },
     "execution_count": 7,
     "metadata": {},
     "output_type": "execute_result"
    }
   ],
   "source": [
    "df_fires=df_final_model1[df_final_model1[\"index_fires\"].isna()==False]\n",
    "df_fires"
   ]
  },
  {
   "cell_type": "code",
   "execution_count": 8,
   "metadata": {},
   "outputs": [
    {
     "data": {
      "text/plain": [
       "date           0\n",
       "h3_level_4     0\n",
       "fire_date      0\n",
       "cause_id       0\n",
       "fire_size      0\n",
       "avgTemp        0\n",
       "avgPerc        0\n",
       "avgWind        0\n",
       "index_fires    0\n",
       "month          0\n",
       "q_avg_temp     0\n",
       "y_avg_temp     0\n",
       "q_sum_perc     0\n",
       "urban_areas    0\n",
       "lat            0\n",
       "lng            0\n",
       "dtype: int64"
      ]
     },
     "execution_count": 8,
     "metadata": {},
     "output_type": "execute_result"
    }
   ],
   "source": [
    "df_fires.isna().sum()"
   ]
  },
  {
   "cell_type": "code",
   "execution_count": 9,
   "metadata": {},
   "outputs": [],
   "source": [
    "df_fires[\"index_fires\"]=df_fires[\"index_fires\"].apply(lambda x: int(x))"
   ]
  },
  {
   "cell_type": "code",
   "execution_count": 10,
   "metadata": {},
   "outputs": [],
   "source": [
    "df_fires=df_fires.set_index('index_fires')"
   ]
  },
  {
   "cell_type": "markdown",
   "metadata": {},
   "source": [
    "# Trimming on data > 2000"
   ]
  },
  {
   "cell_type": "code",
   "execution_count": 11,
   "metadata": {},
   "outputs": [
    {
     "data": {
      "text/html": [
       "<div>\n",
       "<style scoped>\n",
       "    .dataframe tbody tr th:only-of-type {\n",
       "        vertical-align: middle;\n",
       "    }\n",
       "\n",
       "    .dataframe tbody tr th {\n",
       "        vertical-align: top;\n",
       "    }\n",
       "\n",
       "    .dataframe thead th {\n",
       "        text-align: right;\n",
       "    }\n",
       "</style>\n",
       "<table border=\"1\" class=\"dataframe\">\n",
       "  <thead>\n",
       "    <tr style=\"text-align: right;\">\n",
       "      <th></th>\n",
       "      <th>date</th>\n",
       "      <th>h3_level_4</th>\n",
       "      <th>fire_date</th>\n",
       "      <th>cause_id</th>\n",
       "      <th>fire_size</th>\n",
       "      <th>avgTemp</th>\n",
       "      <th>avgPerc</th>\n",
       "      <th>avgWind</th>\n",
       "      <th>month</th>\n",
       "      <th>q_avg_temp</th>\n",
       "      <th>y_avg_temp</th>\n",
       "      <th>q_sum_perc</th>\n",
       "      <th>urban_areas</th>\n",
       "      <th>lat</th>\n",
       "      <th>lng</th>\n",
       "    </tr>\n",
       "    <tr>\n",
       "      <th>index_fires</th>\n",
       "      <th></th>\n",
       "      <th></th>\n",
       "      <th></th>\n",
       "      <th></th>\n",
       "      <th></th>\n",
       "      <th></th>\n",
       "      <th></th>\n",
       "      <th></th>\n",
       "      <th></th>\n",
       "      <th></th>\n",
       "      <th></th>\n",
       "      <th></th>\n",
       "      <th></th>\n",
       "      <th></th>\n",
       "      <th></th>\n",
       "    </tr>\n",
       "  </thead>\n",
       "  <tbody>\n",
       "    <tr>\n",
       "      <th>145751</th>\n",
       "      <td>2003-01-01</td>\n",
       "      <td>8429a51ffffffff</td>\n",
       "      <td>1</td>\n",
       "      <td>13.0</td>\n",
       "      <td>2.0</td>\n",
       "      <td>35.01140</td>\n",
       "      <td>6.100000</td>\n",
       "      <td>1.925000</td>\n",
       "      <td>1</td>\n",
       "      <td>34.550000</td>\n",
       "      <td>34.550000</td>\n",
       "      <td>162.300000</td>\n",
       "      <td>0</td>\n",
       "      <td>33.363745</td>\n",
       "      <td>-118.424787</td>\n",
       "    </tr>\n",
       "    <tr>\n",
       "      <th>145767</th>\n",
       "      <td>2006-07-01</td>\n",
       "      <td>8429a51ffffffff</td>\n",
       "      <td>1</td>\n",
       "      <td>1.0</td>\n",
       "      <td>3.0</td>\n",
       "      <td>36.34520</td>\n",
       "      <td>0.000000</td>\n",
       "      <td>2.425000</td>\n",
       "      <td>7</td>\n",
       "      <td>36.088700</td>\n",
       "      <td>36.088700</td>\n",
       "      <td>0.000000</td>\n",
       "      <td>0</td>\n",
       "      <td>33.363745</td>\n",
       "      <td>-118.424787</td>\n",
       "    </tr>\n",
       "    <tr>\n",
       "      <th>157655</th>\n",
       "      <td>2012-03-01</td>\n",
       "      <td>8429a51ffffffff</td>\n",
       "      <td>1</td>\n",
       "      <td>2.0</td>\n",
       "      <td>1.0</td>\n",
       "      <td>34.18340</td>\n",
       "      <td>25.100000</td>\n",
       "      <td>2.650000</td>\n",
       "      <td>3</td>\n",
       "      <td>34.410200</td>\n",
       "      <td>34.410200</td>\n",
       "      <td>96.200000</td>\n",
       "      <td>0</td>\n",
       "      <td>33.363745</td>\n",
       "      <td>-118.424787</td>\n",
       "    </tr>\n",
       "    <tr>\n",
       "      <th>64852</th>\n",
       "      <td>2008-10-01</td>\n",
       "      <td>8429a43ffffffff</td>\n",
       "      <td>1</td>\n",
       "      <td>13.0</td>\n",
       "      <td>3.0</td>\n",
       "      <td>35.41460</td>\n",
       "      <td>0.850000</td>\n",
       "      <td>2.000000</td>\n",
       "      <td>10</td>\n",
       "      <td>34.859800</td>\n",
       "      <td>34.859800</td>\n",
       "      <td>125.058333</td>\n",
       "      <td>0</td>\n",
       "      <td>33.144796</td>\n",
       "      <td>-117.576960</td>\n",
       "    </tr>\n",
       "    <tr>\n",
       "      <th>145704</th>\n",
       "      <td>2010-07-01</td>\n",
       "      <td>8429a43ffffffff</td>\n",
       "      <td>1</td>\n",
       "      <td>13.0</td>\n",
       "      <td>3.0</td>\n",
       "      <td>35.38850</td>\n",
       "      <td>1.825000</td>\n",
       "      <td>2.277778</td>\n",
       "      <td>7</td>\n",
       "      <td>35.369600</td>\n",
       "      <td>35.369600</td>\n",
       "      <td>8.858333</td>\n",
       "      <td>0</td>\n",
       "      <td>33.144796</td>\n",
       "      <td>-117.576960</td>\n",
       "    </tr>\n",
       "    <tr>\n",
       "      <th>...</th>\n",
       "      <td>...</td>\n",
       "      <td>...</td>\n",
       "      <td>...</td>\n",
       "      <td>...</td>\n",
       "      <td>...</td>\n",
       "      <td>...</td>\n",
       "      <td>...</td>\n",
       "      <td>...</td>\n",
       "      <td>...</td>\n",
       "      <td>...</td>\n",
       "      <td>...</td>\n",
       "      <td>...</td>\n",
       "      <td>...</td>\n",
       "      <td>...</td>\n",
       "      <td>...</td>\n",
       "    </tr>\n",
       "    <tr>\n",
       "      <th>176141</th>\n",
       "      <td>2015-09-01</td>\n",
       "      <td>8428325ffffffff</td>\n",
       "      <td>1</td>\n",
       "      <td>7.0</td>\n",
       "      <td>1.0</td>\n",
       "      <td>35.42495</td>\n",
       "      <td>0.433333</td>\n",
       "      <td>2.600000</td>\n",
       "      <td>9</td>\n",
       "      <td>35.714667</td>\n",
       "      <td>35.714667</td>\n",
       "      <td>323.366667</td>\n",
       "      <td>0</td>\n",
       "      <td>38.935185</td>\n",
       "      <td>-120.487990</td>\n",
       "    </tr>\n",
       "    <tr>\n",
       "      <th>178932</th>\n",
       "      <td>2015-09-01</td>\n",
       "      <td>8428325ffffffff</td>\n",
       "      <td>1</td>\n",
       "      <td>7.0</td>\n",
       "      <td>1.0</td>\n",
       "      <td>35.42495</td>\n",
       "      <td>0.433333</td>\n",
       "      <td>2.600000</td>\n",
       "      <td>9</td>\n",
       "      <td>35.714667</td>\n",
       "      <td>35.714667</td>\n",
       "      <td>323.366667</td>\n",
       "      <td>0</td>\n",
       "      <td>38.935185</td>\n",
       "      <td>-120.487990</td>\n",
       "    </tr>\n",
       "    <tr>\n",
       "      <th>178952</th>\n",
       "      <td>2015-09-01</td>\n",
       "      <td>8428325ffffffff</td>\n",
       "      <td>1</td>\n",
       "      <td>7.0</td>\n",
       "      <td>1.0</td>\n",
       "      <td>35.42495</td>\n",
       "      <td>0.433333</td>\n",
       "      <td>2.600000</td>\n",
       "      <td>9</td>\n",
       "      <td>35.714667</td>\n",
       "      <td>35.714667</td>\n",
       "      <td>323.366667</td>\n",
       "      <td>0</td>\n",
       "      <td>38.935185</td>\n",
       "      <td>-120.487990</td>\n",
       "    </tr>\n",
       "    <tr>\n",
       "      <th>179846</th>\n",
       "      <td>2015-09-01</td>\n",
       "      <td>8428325ffffffff</td>\n",
       "      <td>1</td>\n",
       "      <td>7.0</td>\n",
       "      <td>1.0</td>\n",
       "      <td>35.42495</td>\n",
       "      <td>0.433333</td>\n",
       "      <td>2.600000</td>\n",
       "      <td>9</td>\n",
       "      <td>35.714667</td>\n",
       "      <td>35.714667</td>\n",
       "      <td>323.366667</td>\n",
       "      <td>0</td>\n",
       "      <td>38.935185</td>\n",
       "      <td>-120.487990</td>\n",
       "    </tr>\n",
       "    <tr>\n",
       "      <th>176142</th>\n",
       "      <td>2015-10-01</td>\n",
       "      <td>8428325ffffffff</td>\n",
       "      <td>1</td>\n",
       "      <td>9.0</td>\n",
       "      <td>1.0</td>\n",
       "      <td>34.64870</td>\n",
       "      <td>75.700000</td>\n",
       "      <td>2.250000</td>\n",
       "      <td>10</td>\n",
       "      <td>33.263450</td>\n",
       "      <td>33.263450</td>\n",
       "      <td>540.266667</td>\n",
       "      <td>0</td>\n",
       "      <td>38.935185</td>\n",
       "      <td>-120.487990</td>\n",
       "    </tr>\n",
       "  </tbody>\n",
       "</table>\n",
       "<p>1415749 rows × 15 columns</p>\n",
       "</div>"
      ],
      "text/plain": [
       "                   date       h3_level_4  fire_date  cause_id  fire_size  \\\n",
       "index_fires                                                                \n",
       "145751       2003-01-01  8429a51ffffffff          1      13.0        2.0   \n",
       "145767       2006-07-01  8429a51ffffffff          1       1.0        3.0   \n",
       "157655       2012-03-01  8429a51ffffffff          1       2.0        1.0   \n",
       "64852        2008-10-01  8429a43ffffffff          1      13.0        3.0   \n",
       "145704       2010-07-01  8429a43ffffffff          1      13.0        3.0   \n",
       "...                 ...              ...        ...       ...        ...   \n",
       "176141       2015-09-01  8428325ffffffff          1       7.0        1.0   \n",
       "178932       2015-09-01  8428325ffffffff          1       7.0        1.0   \n",
       "178952       2015-09-01  8428325ffffffff          1       7.0        1.0   \n",
       "179846       2015-09-01  8428325ffffffff          1       7.0        1.0   \n",
       "176142       2015-10-01  8428325ffffffff          1       9.0        1.0   \n",
       "\n",
       "              avgTemp    avgPerc   avgWind  month  q_avg_temp  y_avg_temp  \\\n",
       "index_fires                                                                 \n",
       "145751       35.01140   6.100000  1.925000      1   34.550000   34.550000   \n",
       "145767       36.34520   0.000000  2.425000      7   36.088700   36.088700   \n",
       "157655       34.18340  25.100000  2.650000      3   34.410200   34.410200   \n",
       "64852        35.41460   0.850000  2.000000     10   34.859800   34.859800   \n",
       "145704       35.38850   1.825000  2.277778      7   35.369600   35.369600   \n",
       "...               ...        ...       ...    ...         ...         ...   \n",
       "176141       35.42495   0.433333  2.600000      9   35.714667   35.714667   \n",
       "178932       35.42495   0.433333  2.600000      9   35.714667   35.714667   \n",
       "178952       35.42495   0.433333  2.600000      9   35.714667   35.714667   \n",
       "179846       35.42495   0.433333  2.600000      9   35.714667   35.714667   \n",
       "176142       34.64870  75.700000  2.250000     10   33.263450   33.263450   \n",
       "\n",
       "             q_sum_perc  urban_areas        lat         lng  \n",
       "index_fires                                                  \n",
       "145751       162.300000            0  33.363745 -118.424787  \n",
       "145767         0.000000            0  33.363745 -118.424787  \n",
       "157655        96.200000            0  33.363745 -118.424787  \n",
       "64852        125.058333            0  33.144796 -117.576960  \n",
       "145704         8.858333            0  33.144796 -117.576960  \n",
       "...                 ...          ...        ...         ...  \n",
       "176141       323.366667            0  38.935185 -120.487990  \n",
       "178932       323.366667            0  38.935185 -120.487990  \n",
       "178952       323.366667            0  38.935185 -120.487990  \n",
       "179846       323.366667            0  38.935185 -120.487990  \n",
       "176142       540.266667            0  38.935185 -120.487990  \n",
       "\n",
       "[1415749 rows x 15 columns]"
      ]
     },
     "execution_count": 11,
     "metadata": {},
     "output_type": "execute_result"
    }
   ],
   "source": [
    "df_fires_2000=df_fires[df_fires[\"date\"]>\"1999-01-12\"]\n",
    "df_fires_2000"
   ]
  },
  {
   "cell_type": "code",
   "execution_count": 12,
   "metadata": {},
   "outputs": [
    {
     "name": "stdout",
     "output_type": "stream",
     "text": [
      "1.0    1324287\n",
      "2.0      77901\n",
      "3.0      10865\n",
      "4.0       2696\n",
      "Name: fire_size, dtype: int64\n"
     ]
    },
    {
     "data": {
      "image/png": "[encoded data removed]",
      "text/plain": [
       "<Figure size 720x360 with 1 Axes>"
      ]
     },
     "metadata": {
      "needs_background": "light"
     },
     "output_type": "display_data"
    }
   ],
   "source": [
    "print(df_fires_2000[\"fire_size\"].value_counts())\n",
    "plt.figure(figsize=(10,5))\n",
    "sns.countplot(x=\"fire_size\", data=df_fires_2000)\n",
    "plt.show()"
   ]
  },
  {
   "cell_type": "markdown",
   "metadata": {},
   "source": [
    "# Target variable fire size class"
   ]
  },
  {
   "cell_type": "code",
   "execution_count": 13,
   "metadata": {},
   "outputs": [],
   "source": [
    "df=pd.read_csv(\"/Users/carolinvogt/Becoming_Data_Analyst/final_project/wildfire_project/wildfires_CA.csv\")\n",
    "df.drop([\"Unnamed: 0\"],axis=1, inplace=True)"
   ]
  },
  {
   "cell_type": "code",
   "execution_count": 14,
   "metadata": {},
   "outputs": [],
   "source": [
    "#only california\n",
    "df.drop([\"STATE\"],axis=1, inplace=True)"
   ]
  },
  {
   "cell_type": "code",
   "execution_count": 15,
   "metadata": {},
   "outputs": [
    {
     "data": {
      "text/plain": [
       "['A', 'B', 'C', 'D', 'E', 'F', 'G']"
      ]
     },
     "execution_count": 15,
     "metadata": {},
     "output_type": "execute_result"
    }
   ],
   "source": [
    "size_classes=sorted(list(df[\"FIRE_SIZE_CLASS\"].unique()))\n",
    "size_classes"
   ]
  },
  {
   "cell_type": "code",
   "execution_count": 16,
   "metadata": {},
   "outputs": [],
   "source": [
    "df_fires_2000[\"fire_size\"]=df[\"FIRE_SIZE_CLASS\"]"
   ]
  },
  {
   "cell_type": "code",
   "execution_count": 17,
   "metadata": {},
   "outputs": [
    {
     "name": "stdout",
     "output_type": "stream",
     "text": [
      "A    718101\n",
      "B    606186\n",
      "C     64670\n",
      "D     13231\n",
      "E      6465\n",
      "F      4400\n",
      "G      2696\n",
      "Name: fire_size, dtype: int64\n"
     ]
    },
    {
     "data": {
      "image/png": "[encoded data removed]",
      "text/plain": [
       "<Figure size 720x360 with 1 Axes>"
      ]
     },
     "metadata": {
      "needs_background": "light"
     },
     "output_type": "display_data"
    }
   ],
   "source": [
    "print(df_fires_2000[\"fire_size\"].value_counts())\n",
    "plt.figure(figsize=(10,5))\n",
    "sns.countplot(x=\"fire_size\", data=df_fires_2000)\n",
    "plt.show()"
   ]
  },
  {
   "cell_type": "code",
   "execution_count": 18,
   "metadata": {},
   "outputs": [],
   "source": [
    "df_fires[\"fire_size\"]=df[\"FIRE_SIZE_CLASS\"]"
   ]
  },
  {
   "cell_type": "code",
   "execution_count": 19,
   "metadata": {},
   "outputs": [
    {
     "name": "stdout",
     "output_type": "stream",
     "text": [
      "A    1038644\n",
      "B     909043\n",
      "C     103919\n",
      "D      21540\n",
      "E      11839\n",
      "F       7174\n",
      "G       3283\n",
      "Name: fire_size, dtype: int64\n"
     ]
    },
    {
     "data": {
      "image/png": "[encoded data removed]",
      "text/plain": [
       "<Figure size 720x360 with 1 Axes>"
      ]
     },
     "metadata": {
      "needs_background": "light"
     },
     "output_type": "display_data"
    }
   ],
   "source": [
    "print(df_fires[\"fire_size\"].value_counts())\n",
    "plt.figure(figsize=(10,5))\n",
    "sns.countplot(x=\"fire_size\", data=df_fires)\n",
    "plt.show()"
   ]
  },
  {
   "cell_type": "code",
   "execution_count": 20,
   "metadata": {},
   "outputs": [],
   "source": [
    "fire_size_dic={'A': 1, 'B': 1, 'C': 1, 'D': 2, 'E': 3, 'F':3 , 'G': 3}"
   ]
  },
  {
   "cell_type": "code",
   "execution_count": 21,
   "metadata": {},
   "outputs": [],
   "source": [
    "df_fires[\"fire_size\"]=df_fires[\"fire_size\"].apply(lambda x: fire_size_dic[x])"
   ]
  },
  {
   "cell_type": "code",
   "execution_count": 22,
   "metadata": {},
   "outputs": [
    {
     "name": "stdout",
     "output_type": "stream",
     "text": [
      "1    2051606\n",
      "3      22296\n",
      "2      21540\n",
      "Name: fire_size, dtype: int64\n"
     ]
    },
    {
     "data": {
      "image/png": "[encoded data removed]",
      "text/plain": [
       "<Figure size 720x360 with 1 Axes>"
      ]
     },
     "metadata": {
      "needs_background": "light"
     },
     "output_type": "display_data"
    }
   ],
   "source": [
    "print(df_fires[\"fire_size\"].value_counts())\n",
    "plt.figure(figsize=(10,5))\n",
    "sns.countplot(x=\"fire_size\", data=df_fires)\n",
    "plt.show()"
   ]
  },
  {
   "cell_type": "code",
   "execution_count": 23,
   "metadata": {},
   "outputs": [],
   "source": [
    "test_1=df_fires[df_fires[\"fire_size\"]==1].sample(22296,replace=False)\n",
    "test_3=df_fires[df_fires[\"fire_size\"]==2]\n",
    "test_4=df_fires[df_fires[\"fire_size\"]==3].sample(22296,replace=True)\n",
    "\n",
    "df_bal=pd.concat([test_1,test_3,test_4],axis=0)"
   ]
  },
  {
   "cell_type": "code",
   "execution_count": 24,
   "metadata": {},
   "outputs": [
    {
     "name": "stdout",
     "output_type": "stream",
     "text": [
      "<class 'pandas.core.frame.DataFrame'>\n",
      "Int64Index: 66132 entries, 7946 to 170366\n",
      "Data columns (total 16 columns):\n",
      " #   Column       Non-Null Count  Dtype         \n",
      "---  ------       --------------  -----         \n",
      " 0   date         66132 non-null  datetime64[ns]\n",
      " 1   h3_level_4   66132 non-null  object        \n",
      " 2   fire_date    66132 non-null  int64         \n",
      " 3   cause_id     66132 non-null  float64       \n",
      " 4   fire_size    66132 non-null  int64         \n",
      " 5   avgTemp      66132 non-null  float64       \n",
      " 6   avgPerc      66132 non-null  float64       \n",
      " 7   avgWind      66132 non-null  float64       \n",
      " 8   month        66132 non-null  int64         \n",
      " 9   q_avg_temp   66132 non-null  float64       \n",
      " 10  y_avg_temp   66132 non-null  float64       \n",
      " 11  q_sum_perc   66132 non-null  float64       \n",
      " 12  urban_areas  66132 non-null  int64         \n",
      " 13  lat          66132 non-null  float64       \n",
      " 14  lng          66132 non-null  float64       \n",
      " 15  weekday      66132 non-null  int64         \n",
      "dtypes: datetime64[ns](1), float64(9), int64(5), object(1)\n",
      "memory usage: 8.6+ MB\n"
     ]
    }
   ],
   "source": [
    "df_bal['date'] = pd.to_datetime(df_bal['date'])\n",
    "df_bal['weekday'] = df_bal['date'].apply(lambda x: x.dayofweek) #already numeric\n",
    "\n",
    "df_bal.info()"
   ]
  },
  {
   "cell_type": "markdown",
   "metadata": {},
   "source": [
    "# Feature Engineering Fire Cause"
   ]
  },
  {
   "cell_type": "code",
   "execution_count": 25,
   "metadata": {},
   "outputs": [
    {
     "name": "stdout",
     "output_type": "stream",
     "text": [
      "------ FIRE CAUSE: ------\n"
     ]
    },
    {
     "data": {
      "image/png": "[encoded data removed]",
      "text/plain": [
       "<Figure size 864x576 with 1 Axes>"
      ]
     },
     "metadata": {
      "needs_background": "light"
     },
     "output_type": "display_data"
    }
   ],
   "source": [
    "print(\"------ FIRE CAUSE: ------\")\n",
    "plt.figure(figsize=(12,8))\n",
    "chart=sns.countplot(x=\"cause_id\", data=df_bal)\n",
    "chart.set_xticklabels(chart.get_xticklabels(), rotation=45, horizontalalignment='right')\n",
    "plt.show()"
   ]
  },
  {
   "cell_type": "markdown",
   "metadata": {},
   "source": [
    "DESCRIPTION\n",
    "\n",
    "{9: 'Miscellaneous',\n",
    " 1: 'Lightning',\n",
    " 5: 'Debris Burning',\n",
    " 4: 'Campfire',\n",
    " 2: 'Equipment Use',\n",
    " 8: 'Children',\n",
    " 7: 'Arson',\n",
    " 3: 'Smoking',\n",
    " 6: 'Railroad',\n",
    " 10: 'Fireworks',\n",
    " 12: 'Structure',\n",
    " 11: 'Powerline',\n",
    " 13: 'Missing/Undefined'}"
   ]
  },
  {
   "cell_type": "code",
   "execution_count": 26,
   "metadata": {},
   "outputs": [],
   "source": [
    "human_error_dic={9: 0, 1: 0, 5: 0, 4: 1, 2: 1, 8: 1, 7: 1, 3: 1, 6: 0, 10: 1, 12: 0, 11: 0, 13: 0}\n",
    "#1=yes\n",
    "#0=no\n",
    "\n"
   ]
  },
  {
   "cell_type": "code",
   "execution_count": 27,
   "metadata": {},
   "outputs": [],
   "source": [
    "df_bal[\"human_error\"]=df_bal[\"cause_id\"].apply(lambda x: human_error_dic[x])"
   ]
  },
  {
   "cell_type": "code",
   "execution_count": 28,
   "metadata": {},
   "outputs": [],
   "source": [
    "infrastructure_dic={9: 0, 1: 0, 5: 1, 4: 0, 2: 0, 8: 0, 7: 0, 3: 0, 6: 1, 10: 0, 12: 1, 11: 1, 13: 0}\n",
    "\n",
    "#1=yes\n",
    "#0=no"
   ]
  },
  {
   "cell_type": "code",
   "execution_count": 29,
   "metadata": {},
   "outputs": [],
   "source": [
    "df_bal[\"infrastructure_error\"]=df_bal[\"cause_id\"].apply(lambda x: infrastructure_dic[x])\n"
   ]
  },
  {
   "cell_type": "code",
   "execution_count": 30,
   "metadata": {},
   "outputs": [],
   "source": [
    "lightning_dic={9: 0, 1: 1, 5: 0, 4: 0, 2: 0, 8: 0, 7: 0, 3: 0, 6: 0, 10: 0, 12: 0, 11: 0, 13: 0}\n",
    "\n"
   ]
  },
  {
   "cell_type": "code",
   "execution_count": 31,
   "metadata": {},
   "outputs": [],
   "source": [
    "df_bal[\"lightning\"]=df_bal[\"cause_id\"].apply(lambda x: lightning_dic[x])"
   ]
  },
  {
   "cell_type": "code",
   "execution_count": 32,
   "metadata": {},
   "outputs": [],
   "source": [
    "df_bal.drop([\"cause_id\",\"date\",\"h3_level_4\", \"fire_date\"],axis=1,inplace=True)"
   ]
  },
  {
   "cell_type": "code",
   "execution_count": 33,
   "metadata": {},
   "outputs": [
    {
     "name": "stdout",
     "output_type": "stream",
     "text": [
      "<class 'pandas.core.frame.DataFrame'>\n",
      "Int64Index: 66132 entries, 7946 to 170366\n",
      "Data columns (total 15 columns):\n",
      " #   Column                Non-Null Count  Dtype  \n",
      "---  ------                --------------  -----  \n",
      " 0   fire_size             66132 non-null  int64  \n",
      " 1   avgTemp               66132 non-null  float64\n",
      " 2   avgPerc               66132 non-null  float64\n",
      " 3   avgWind               66132 non-null  float64\n",
      " 4   month                 66132 non-null  int64  \n",
      " 5   q_avg_temp            66132 non-null  float64\n",
      " 6   y_avg_temp            66132 non-null  float64\n",
      " 7   q_sum_perc            66132 non-null  float64\n",
      " 8   urban_areas           66132 non-null  int64  \n",
      " 9   lat                   66132 non-null  float64\n",
      " 10  lng                   66132 non-null  float64\n",
      " 11  weekday               66132 non-null  int64  \n",
      " 12  human_error           66132 non-null  int64  \n",
      " 13  infrastructure_error  66132 non-null  int64  \n",
      " 14  lightning             66132 non-null  int64  \n",
      "dtypes: float64(8), int64(7)\n",
      "memory usage: 10.1 MB\n"
     ]
    }
   ],
   "source": [
    "df_bal.info()"
   ]
  },
  {
   "cell_type": "markdown",
   "metadata": {},
   "source": [
    "# Automated feature importance"
   ]
  },
  {
   "cell_type": "code",
   "execution_count": 119,
   "metadata": {},
   "outputs": [],
   "source": [
    "#-- 1 --\n",
    "#X-Y-SPLIT\n",
    "Y=df_bal[\"fire_size\"]\n",
    "X=df_bal.drop([\"fire_size\",\"urban_areas\",\"weekday\",\"human_error\",\"infrastructure_error\",\"lightning\"],axis=1)\n"
   ]
  },
  {
   "cell_type": "code",
   "execution_count": 120,
   "metadata": {},
   "outputs": [],
   "source": [
    "from sklearn.ensemble import RandomForestClassifier\n",
    "from sklearn.ensemble import RandomForestRegressor\n",
    "\n",
    "def Autofeature(X,Y,scaler=StandardScaler(), model=RandomForestRegressor()):    # RandomForestClassifier()  or RandomForestRegressor() for Modell\n",
    "    from sklearn.ensemble import RandomForestClassifier\n",
    "    from sklearn.ensemble import RandomForestRegressor\n",
    "    from matplotlib import pyplot\n",
    "    #scaling\n",
    "    scaler_x = scaler.fit(X)\n",
    "    X_scaled = pd.DataFrame(scaler_x.transform(X),columns=X.columns, index=X.index)\n",
    "    #upsampling\n",
    "    X, y = balance (X_scaled, Y, \"TomekLinks\")\n",
    "    Xs_scaled, ys = balance (X, y, \"SMOTE\")\n",
    "     \n",
    "\n",
    "    model.fit(Xs_scaled, ys)\n",
    "    # get importance\n",
    "    importance = model.feature_importances_\n",
    "    # summarize feature importance\n",
    "    for i,v in enumerate(importance):\n",
    "        print('Feature: %0d, Score: %.5f' % (i,v))\n",
    "\n",
    "    # plot feature importance\n",
    "    pyplot.bar([x for x in range(len(importance))], importance)\n",
    "    pyplot.show()"
   ]
  },
  {
   "cell_type": "code",
   "execution_count": 121,
   "metadata": {},
   "outputs": [
    {
     "name": "stdout",
     "output_type": "stream",
     "text": [
      "Before sampling:\n",
      "Length X:  3636172\n",
      "Length Y:  3636172\n",
      "_______________\n",
      "fire_size\n",
      "1            909043\n",
      "2            909043\n",
      "3            909043\n",
      "4            909043\n",
      "dtype: int64\n",
      "_______________\n",
      "After sampling:\n",
      "fire_size\n",
      "2            909043\n",
      "3            909043\n",
      "4            909043\n",
      "1            908851\n",
      "dtype: int64\n",
      "3635980\n",
      "Before sampling:\n",
      "Length X:  3635980\n",
      "Length Y:  3635980\n",
      "_______________\n",
      "fire_size\n",
      "2            909043\n",
      "3            909043\n",
      "4            909043\n",
      "1            908851\n",
      "dtype: int64\n",
      "_______________\n",
      "After sampling:\n",
      "fire_size\n",
      "1            909043\n",
      "2            909043\n",
      "3            909043\n",
      "4            909043\n",
      "dtype: int64\n",
      "3636172\n",
      "Feature: 0, Score: 0.15543\n",
      "Feature: 1, Score: 0.09635\n",
      "Feature: 2, Score: 0.12809\n",
      "Feature: 3, Score: 0.05721\n",
      "Feature: 4, Score: 0.11470\n",
      "Feature: 5, Score: 0.11623\n",
      "Feature: 6, Score: 0.13389\n",
      "Feature: 7, Score: 0.10015\n",
      "Feature: 8, Score: 0.09794\n"
     ]
    },
    {
     "data": {
      "image/png": "[encoded data removed]",
      "text/plain": [
       "<Figure size 432x288 with 1 Axes>"
      ]
     },
     "metadata": {
      "needs_background": "light"
     },
     "output_type": "display_data"
    }
   ],
   "source": [
    "Autofeature(X,Y,scaler=StandardScaler(), model=RandomForestClassifier())"
   ]
  },
  {
   "cell_type": "code",
   "execution_count": 106,
   "metadata": {},
   "outputs": [
    {
     "data": {
      "text/html": [
       "<div>\n",
       "<style scoped>\n",
       "    .dataframe tbody tr th:only-of-type {\n",
       "        vertical-align: middle;\n",
       "    }\n",
       "\n",
       "    .dataframe tbody tr th {\n",
       "        vertical-align: top;\n",
       "    }\n",
       "\n",
       "    .dataframe thead th {\n",
       "        text-align: right;\n",
       "    }\n",
       "</style>\n",
       "<table border=\"1\" class=\"dataframe\">\n",
       "  <thead>\n",
       "    <tr style=\"text-align: right;\">\n",
       "      <th></th>\n",
       "      <th>avgTemp</th>\n",
       "      <th>avgPerc</th>\n",
       "      <th>avgWind</th>\n",
       "      <th>month</th>\n",
       "      <th>q_avg_temp</th>\n",
       "      <th>y_avg_temp</th>\n",
       "      <th>q_sum_perc</th>\n",
       "      <th>urban_areas</th>\n",
       "      <th>lat</th>\n",
       "      <th>lng</th>\n",
       "      <th>weekday</th>\n",
       "      <th>human_error</th>\n",
       "      <th>infrastructure_error</th>\n",
       "      <th>lightning</th>\n",
       "    </tr>\n",
       "    <tr>\n",
       "      <th>index_fires</th>\n",
       "      <th></th>\n",
       "      <th></th>\n",
       "      <th></th>\n",
       "      <th></th>\n",
       "      <th></th>\n",
       "      <th></th>\n",
       "      <th></th>\n",
       "      <th></th>\n",
       "      <th></th>\n",
       "      <th></th>\n",
       "      <th></th>\n",
       "      <th></th>\n",
       "      <th></th>\n",
       "      <th></th>\n",
       "    </tr>\n",
       "  </thead>\n",
       "  <tbody>\n",
       "    <tr>\n",
       "      <th>53872</th>\n",
       "      <td>36.3434</td>\n",
       "      <td>0.000000</td>\n",
       "      <td>2.900000</td>\n",
       "      <td>10</td>\n",
       "      <td>35.745901</td>\n",
       "      <td>35.745901</td>\n",
       "      <td>29447.866667</td>\n",
       "      <td>1</td>\n",
       "      <td>33.743320</td>\n",
       "      <td>-116.392064</td>\n",
       "      <td>0</td>\n",
       "      <td>0</td>\n",
       "      <td>0</td>\n",
       "      <td>0</td>\n",
       "    </tr>\n",
       "    <tr>\n",
       "      <th>150900</th>\n",
       "      <td>36.5135</td>\n",
       "      <td>5.700000</td>\n",
       "      <td>2.350000</td>\n",
       "      <td>7</td>\n",
       "      <td>36.572984</td>\n",
       "      <td>36.572984</td>\n",
       "      <td>53526.671429</td>\n",
       "      <td>1</td>\n",
       "      <td>33.969092</td>\n",
       "      <td>-117.246454</td>\n",
       "      <td>4</td>\n",
       "      <td>0</td>\n",
       "      <td>0</td>\n",
       "      <td>0</td>\n",
       "    </tr>\n",
       "    <tr>\n",
       "      <th>170538</th>\n",
       "      <td>34.8374</td>\n",
       "      <td>62.466667</td>\n",
       "      <td>1.000000</td>\n",
       "      <td>7</td>\n",
       "      <td>34.742971</td>\n",
       "      <td>34.742971</td>\n",
       "      <td>81367.533333</td>\n",
       "      <td>0</td>\n",
       "      <td>38.350812</td>\n",
       "      <td>-119.762726</td>\n",
       "      <td>1</td>\n",
       "      <td>0</td>\n",
       "      <td>0</td>\n",
       "      <td>1</td>\n",
       "    </tr>\n",
       "    <tr>\n",
       "      <th>130727</th>\n",
       "      <td>36.0122</td>\n",
       "      <td>6.787500</td>\n",
       "      <td>2.540000</td>\n",
       "      <td>7</td>\n",
       "      <td>35.966615</td>\n",
       "      <td>35.966615</td>\n",
       "      <td>11126.350000</td>\n",
       "      <td>1</td>\n",
       "      <td>32.919019</td>\n",
       "      <td>-116.729287</td>\n",
       "      <td>3</td>\n",
       "      <td>1</td>\n",
       "      <td>0</td>\n",
       "      <td>0</td>\n",
       "    </tr>\n",
       "    <tr>\n",
       "      <th>39217</th>\n",
       "      <td>35.1059</td>\n",
       "      <td>2.850000</td>\n",
       "      <td>2.533333</td>\n",
       "      <td>6</td>\n",
       "      <td>35.105441</td>\n",
       "      <td>35.105441</td>\n",
       "      <td>10301.400000</td>\n",
       "      <td>1</td>\n",
       "      <td>32.505640</td>\n",
       "      <td>-116.895902</td>\n",
       "      <td>1</td>\n",
       "      <td>0</td>\n",
       "      <td>0</td>\n",
       "      <td>0</td>\n",
       "    </tr>\n",
       "    <tr>\n",
       "      <th>...</th>\n",
       "      <td>...</td>\n",
       "      <td>...</td>\n",
       "      <td>...</td>\n",
       "      <td>...</td>\n",
       "      <td>...</td>\n",
       "      <td>...</td>\n",
       "      <td>...</td>\n",
       "      <td>...</td>\n",
       "      <td>...</td>\n",
       "      <td>...</td>\n",
       "      <td>...</td>\n",
       "      <td>...</td>\n",
       "      <td>...</td>\n",
       "      <td>...</td>\n",
       "    </tr>\n",
       "    <tr>\n",
       "      <th>38044</th>\n",
       "      <td>35.1374</td>\n",
       "      <td>8.400000</td>\n",
       "      <td>2.650000</td>\n",
       "      <td>4</td>\n",
       "      <td>35.299703</td>\n",
       "      <td>35.299703</td>\n",
       "      <td>111090.000000</td>\n",
       "      <td>1</td>\n",
       "      <td>32.505640</td>\n",
       "      <td>-116.895902</td>\n",
       "      <td>0</td>\n",
       "      <td>1</td>\n",
       "      <td>0</td>\n",
       "      <td>0</td>\n",
       "    </tr>\n",
       "    <tr>\n",
       "      <th>147718</th>\n",
       "      <td>35.2103</td>\n",
       "      <td>48.650000</td>\n",
       "      <td>2.200000</td>\n",
       "      <td>9</td>\n",
       "      <td>35.212822</td>\n",
       "      <td>35.212822</td>\n",
       "      <td>15820.100000</td>\n",
       "      <td>0</td>\n",
       "      <td>37.652150</td>\n",
       "      <td>-119.564497</td>\n",
       "      <td>3</td>\n",
       "      <td>0</td>\n",
       "      <td>0</td>\n",
       "      <td>1</td>\n",
       "    </tr>\n",
       "    <tr>\n",
       "      <th>5955</th>\n",
       "      <td>35.2949</td>\n",
       "      <td>3.100000</td>\n",
       "      <td>2.900000</td>\n",
       "      <td>6</td>\n",
       "      <td>35.250399</td>\n",
       "      <td>35.250399</td>\n",
       "      <td>10255.000000</td>\n",
       "      <td>0</td>\n",
       "      <td>41.173242</td>\n",
       "      <td>-123.440375</td>\n",
       "      <td>6</td>\n",
       "      <td>0</td>\n",
       "      <td>0</td>\n",
       "      <td>1</td>\n",
       "    </tr>\n",
       "    <tr>\n",
       "      <th>118191</th>\n",
       "      <td>36.4694</td>\n",
       "      <td>7.633333</td>\n",
       "      <td>2.700000</td>\n",
       "      <td>9</td>\n",
       "      <td>36.768974</td>\n",
       "      <td>36.768974</td>\n",
       "      <td>5984.533333</td>\n",
       "      <td>0</td>\n",
       "      <td>40.748206</td>\n",
       "      <td>-122.170800</td>\n",
       "      <td>3</td>\n",
       "      <td>0</td>\n",
       "      <td>0</td>\n",
       "      <td>1</td>\n",
       "    </tr>\n",
       "    <tr>\n",
       "      <th>22931</th>\n",
       "      <td>36.0026</td>\n",
       "      <td>5.800000</td>\n",
       "      <td>2.850000</td>\n",
       "      <td>8</td>\n",
       "      <td>36.004212</td>\n",
       "      <td>36.004212</td>\n",
       "      <td>4877.800000</td>\n",
       "      <td>0</td>\n",
       "      <td>40.629000</td>\n",
       "      <td>-122.694961</td>\n",
       "      <td>6</td>\n",
       "      <td>1</td>\n",
       "      <td>0</td>\n",
       "      <td>0</td>\n",
       "    </tr>\n",
       "  </tbody>\n",
       "</table>\n",
       "<p>3636172 rows × 14 columns</p>\n",
       "</div>"
      ],
      "text/plain": [
       "             avgTemp    avgPerc   avgWind  month  q_avg_temp  y_avg_temp  \\\n",
       "index_fires                                                                \n",
       "53872        36.3434   0.000000  2.900000     10   35.745901   35.745901   \n",
       "150900       36.5135   5.700000  2.350000      7   36.572984   36.572984   \n",
       "170538       34.8374  62.466667  1.000000      7   34.742971   34.742971   \n",
       "130727       36.0122   6.787500  2.540000      7   35.966615   35.966615   \n",
       "39217        35.1059   2.850000  2.533333      6   35.105441   35.105441   \n",
       "...              ...        ...       ...    ...         ...         ...   \n",
       "38044        35.1374   8.400000  2.650000      4   35.299703   35.299703   \n",
       "147718       35.2103  48.650000  2.200000      9   35.212822   35.212822   \n",
       "5955         35.2949   3.100000  2.900000      6   35.250399   35.250399   \n",
       "118191       36.4694   7.633333  2.700000      9   36.768974   36.768974   \n",
       "22931        36.0026   5.800000  2.850000      8   36.004212   36.004212   \n",
       "\n",
       "                q_sum_perc  urban_areas        lat         lng  weekday  \\\n",
       "index_fires                                                               \n",
       "53872         29447.866667            1  33.743320 -116.392064        0   \n",
       "150900        53526.671429            1  33.969092 -117.246454        4   \n",
       "170538        81367.533333            0  38.350812 -119.762726        1   \n",
       "130727        11126.350000            1  32.919019 -116.729287        3   \n",
       "39217         10301.400000            1  32.505640 -116.895902        1   \n",
       "...                    ...          ...        ...         ...      ...   \n",
       "38044        111090.000000            1  32.505640 -116.895902        0   \n",
       "147718        15820.100000            0  37.652150 -119.564497        3   \n",
       "5955          10255.000000            0  41.173242 -123.440375        6   \n",
       "118191         5984.533333            0  40.748206 -122.170800        3   \n",
       "22931          4877.800000            0  40.629000 -122.694961        6   \n",
       "\n",
       "             human_error  infrastructure_error  lightning  \n",
       "index_fires                                                \n",
       "53872                  0                     0          0  \n",
       "150900                 0                     0          0  \n",
       "170538                 0                     0          1  \n",
       "130727                 1                     0          0  \n",
       "39217                  0                     0          0  \n",
       "...                  ...                   ...        ...  \n",
       "38044                  1                     0          0  \n",
       "147718                 0                     0          1  \n",
       "5955                   0                     0          1  \n",
       "118191                 0                     0          1  \n",
       "22931                  1                     0          0  \n",
       "\n",
       "[3636172 rows x 14 columns]"
      ]
     },
     "execution_count": 106,
     "metadata": {},
     "output_type": "execute_result"
    }
   ],
   "source": [
    "X"
   ]
  },
  {
   "cell_type": "code",
   "execution_count": 56,
   "metadata": {},
   "outputs": [],
   "source": [
    "#-- 1 --\n",
    "#X-Y-SPLIT\n",
    "Y=df_bal[\"fire_size\"]\n",
    "X=df_bal.drop([\"fire_size\",\"urban_areas\",\"weekday\",\"month\",\"human_error\",\"infrastructure_error\",\"lightning\"],axis=1)\n"
   ]
  },
  {
   "cell_type": "code",
   "execution_count": 57,
   "metadata": {},
   "outputs": [],
   "source": [
    "#-- 2 --\n",
    "#TRAIN-TEST-SPLIT\n",
    "from sklearn.model_selection import train_test_split\n",
    "X_train, X_test, y_train, y_test = train_test_split(X, Y, test_size=0.3, random_state=100)\n"
   ]
  },
  {
   "cell_type": "code",
   "execution_count": 58,
   "metadata": {},
   "outputs": [],
   "source": [
    "#-- 3 --\n",
    "#SCALING\n",
    "from sklearn.preprocessing import StandardScaler\n",
    "from sklearn.preprocessing import MinMaxScaler\n",
    "from sklearn.preprocessing import Normalizer\n",
    "#transformer on X_train\n",
    "transformer = StandardScaler().fit(X_train)\n",
    "#X-train & X-test Scaling on same transformer\n",
    "X_train_scaled= pd.DataFrame(transformer.transform(X_train), columns = X.columns, index = X_train.index)\n",
    "X_test_scaled= pd.DataFrame(transformer.transform(X_test), columns = X.columns, index = X_test.index)\n"
   ]
  },
  {
   "cell_type": "code",
   "execution_count": 66,
   "metadata": {},
   "outputs": [
    {
     "name": "stdout",
     "output_type": "stream",
     "text": [
      "The accuracy of the model in the TRAIN set is:  0.49\n",
      "The kappa of the model in the TRAIN set is:  0.2315004229631652\n",
      "________________________TRAIN_______________________________________\n",
      "              precision    recall  f1-score   support\n",
      "\n",
      "           1       0.54      0.42      0.47     15607\n",
      "           2       0.46      0.46      0.46     15145\n",
      "           3       0.48      0.58      0.53     15540\n",
      "\n",
      "    accuracy                           0.49     46292\n",
      "   macro avg       0.49      0.49      0.49     46292\n",
      "weighted avg       0.49      0.49      0.49     46292\n",
      "\n",
      "The accuracy of the model in the TEST set is:  0.48\n",
      "The kappa of the model in the TEST set is:  0.21831877692967983\n",
      "________________________TEST_______________________________________\n",
      "              precision    recall  f1-score   support\n",
      "\n",
      "           1       0.53      0.41      0.46      6689\n",
      "           2       0.44      0.44      0.44      6395\n",
      "           3       0.48      0.58      0.53      6756\n",
      "\n",
      "    accuracy                           0.48     19840\n",
      "   macro avg       0.48      0.48      0.48     19840\n",
      "weighted avg       0.48      0.48      0.48     19840\n",
      "\n",
      "The values are:\n",
      "[[2714 1886 2089]\n",
      " [1350 2841 2204]\n",
      " [1067 1737 3952]]\n"
     ]
    },
    {
     "data": {
      "image/png": "[encoded data removed]",
      "text/plain": [
       "<Figure size 432x288 with 2 Axes>"
      ]
     },
     "metadata": {
      "needs_background": "light"
     },
     "output_type": "display_data"
    }
   ],
   "source": [
    "#-- 5 --\n",
    "#MODELING\n",
    "from sklearn.ensemble import AdaBoostClassifier\n",
    "from sklearn.ensemble import RandomForestClassifier\n",
    "from sklearn.linear_model import LogisticRegression\n",
    "from sklearn.neighbors import KNeighborsClassifier\n",
    "\n",
    "model= RandomForestClassifier(n_estimators=1000,max_depth=11, min_samples_split=2000, min_samples_leaf=900)\n",
    "#model=AdaBoostClassifier()\n",
    "classification=model.fit(X_train_scaled, y_train)\n",
    "\n",
    "y_train_sampled_pred = classification.predict(X_train_scaled)\n",
    "y_train_sampled_pred_df = pd.DataFrame(y_train_sampled_pred,index=y_train.index,columns=[\"fire\"])\n",
    "\n",
    "y_test_pred = classification.predict(X_test_scaled)\n",
    "probability = classification.predict_proba(X_test_scaled)\n",
    "y_test_pred_df = pd.DataFrame(y_test_pred,index=y_test.index,columns=[\"fire\" + \"_pred\"])\n",
    "\n",
    "\n",
    "#-- 6 --\n",
    "#ERROR-MATRIX\n",
    "from sklearn.metrics import cohen_kappa_score\n",
    "from sklearn.metrics import classification_report\n",
    "\n",
    "print(\"The accuracy of the model in the TRAIN set is: \", round(classification.score(X_train_scaled, y_train),2))\n",
    "print(\"The kappa of the model in the TRAIN set is: \", cohen_kappa_score(y_train,y_train_sampled_pred))\n",
    "\n",
    "print(\"________________________TRAIN_______________________________________\")\n",
    "print(classification_report(y_train, y_train_sampled_pred))\n",
    "\n",
    "print(\"The accuracy of the model in the TEST set is: \", round(classification.score(X_test_scaled,y_test),2))\n",
    "print(\"The kappa of the model in the TEST set is: \", cohen_kappa_score(y_test,y_test_pred))\n",
    "\n",
    "print(\"________________________TEST_______________________________________\")\n",
    "print(classification_report(y_test, y_test_pred))\n",
    "\n",
    "#-- 7 --\n",
    "#CONF-MATRIX\n",
    "from sklearn.metrics import confusion_matrix, plot_confusion_matrix\n",
    "\n",
    "print(\"The values are:\")\n",
    "print(confusion_matrix(y_test, y_test_pred_df))\n",
    "\n",
    "plot_confusion_matrix(classification, X_test_scaled, y_test)\n",
    "plt.show()"
   ]
  },
  {
   "cell_type": "code",
   "execution_count": 46,
   "metadata": {},
   "outputs": [],
   "source": [
    "#-- 1 --\n",
    "#X-Y-SPLIT\n",
    "Y1=df_bal[\"fire_size\"]\n",
    "X1=df_bal.drop([\"fire_size\",\"urban_areas\",\"weekday\",\"month\",\"human_error\",\"infrastructure_error\",\"lightning\"],axis=1)\n"
   ]
  },
  {
   "cell_type": "code",
   "execution_count": 47,
   "metadata": {},
   "outputs": [],
   "source": [
    "#-- 2 --\n",
    "#TRAIN-TEST-SPLIT\n",
    "from sklearn.model_selection import train_test_split\n",
    "X1_train, X1_test, y1_train, y1_test = train_test_split(X1, Y1, test_size=0.3, random_state=100)\n"
   ]
  },
  {
   "cell_type": "code",
   "execution_count": 48,
   "metadata": {},
   "outputs": [],
   "source": [
    "from sklearn.metrics import make_scorer\n",
    "\n",
    "ftwo_scorer = make_scorer(cohen_kappa_score)"
   ]
  },
  {
   "cell_type": "code",
   "execution_count": 54,
   "metadata": {},
   "outputs": [
    {
     "name": "stdout",
     "output_type": "stream",
     "text": [
      "Fitting 5 folds for each of 9 candidates, totalling 45 fits\n"
     ]
    },
    {
     "name": "stderr",
     "output_type": "stream",
     "text": [
      "[Parallel(n_jobs=1)]: Using backend SequentialBackend with 1 concurrent workers.\n",
      "[Parallel(n_jobs=1)]: Done  45 out of  45 | elapsed:  3.6min finished\n"
     ]
    }
   ],
   "source": [
    "from sklearn.model_selection import cross_val_score, GridSearchCV\n",
    "from sklearn.preprocessing import MinMaxScaler\n",
    "from sklearn.ensemble import RandomForestClassifier\n",
    "# Perform Grid-Search\n",
    "gsc = GridSearchCV(\n",
    "    estimator=RandomForestClassifier(),\n",
    "    param_grid={\n",
    "        \n",
    "        'max_depth': range(5,8),\n",
    "        'n_estimators': [150,250, 500]\n",
    "    },\n",
    "     cv=5, scoring=ftwo_scorer, verbose=1,\n",
    "n_jobs=1)\n",
    "\n",
    "grid_result = gsc.fit(X1_train, y1_train)\n",
    "best_params = grid_result.best_params_\n"
   ]
  },
  {
   "cell_type": "code",
   "execution_count": 55,
   "metadata": {},
   "outputs": [
    {
     "data": {
      "text/plain": [
       "{'max_depth': 7, 'n_estimators': 250}"
      ]
     },
     "execution_count": 55,
     "metadata": {},
     "output_type": "execute_result"
    }
   ],
   "source": [
    "best_params "
   ]
  },
  {
   "cell_type": "code",
   "execution_count": 64,
   "metadata": {},
   "outputs": [
    {
     "name": "stdout",
     "output_type": "stream",
     "text": [
      "Fitting 5 folds for each of 21 candidates, totalling 105 fits\n"
     ]
    },
    {
     "name": "stderr",
     "output_type": "stream",
     "text": [
      "[Parallel(n_jobs=1)]: Using backend SequentialBackend with 1 concurrent workers.\n",
      "[Parallel(n_jobs=1)]: Done 105 out of 105 | elapsed: 96.0min finished\n"
     ]
    }
   ],
   "source": [
    "from sklearn.model_selection import cross_val_score, GridSearchCV\n",
    "from sklearn.preprocessing import MinMaxScaler\n",
    "from sklearn.ensemble import RandomForestClassifier\n",
    "# Perform Grid-Search\n",
    "gsc = GridSearchCV(\n",
    "    estimator=RandomForestClassifier(),\n",
    "    param_grid={\n",
    "        \n",
    "        'max_depth': range(5,12),\n",
    "        'n_estimators': [1000, 2500, 5000]\n",
    "    },\n",
    "     cv=5, scoring=ftwo_scorer, verbose=1,\n",
    "n_jobs=1)\n",
    "\n",
    "grid_result = gsc.fit(X1_train, y1_train)\n",
    "best_params = grid_result.best_params_\n"
   ]
  },
  {
   "cell_type": "code",
   "execution_count": 65,
   "metadata": {},
   "outputs": [
    {
     "data": {
      "text/plain": [
       "{'max_depth': 11, 'n_estimators': 1000}"
      ]
     },
     "execution_count": 65,
     "metadata": {},
     "output_type": "execute_result"
    }
   ],
   "source": [
    "best_params"
   ]
  },
  {
   "cell_type": "code",
   "execution_count": 134,
   "metadata": {},
   "outputs": [],
   "source": [
    "#-- 3 --\n",
    "#SCALING\n",
    "from sklearn.preprocessing import StandardScaler\n",
    "from sklearn.preprocessing import MinMaxScaler\n",
    "from sklearn.preprocessing import Normalizer\n",
    "#transformer on X_train\n",
    "transformer = StandardScaler().fit(X_train)\n",
    "#X-train & X-test Scaling on same transformer\n",
    "X1_train_scaled= pd.DataFrame(transformer.transform(X1_train), columns = X.columns, index = X_train.index)\n",
    "X1_test_scaled= pd.DataFrame(transformer.transform(X1_test), columns = X.columns, index = X_test.index)\n"
   ]
  },
  {
   "cell_type": "code",
   "execution_count": 136,
   "metadata": {},
   "outputs": [],
   "source": [
    "from sklearn.datasets import make_classification\n",
    "from sklearn.linear_model import LogisticRegression\n",
    "\n",
    "model = LogisticRegression(multi_class='ovr')\n",
    "model.fit(X1_train_scaled, y1_train)\n",
    "\n",
    "yhat = model.predict(X1_train_scaled)"
   ]
  },
  {
   "cell_type": "code",
   "execution_count": 137,
   "metadata": {},
   "outputs": [],
   "source": [
    "classification1= model\n",
    "\n",
    "y1_train_sampled_pred = yhat\n",
    "y1_train_sampled_pred_df = pd.DataFrame(y1_train_sampled_pred,index=y1_train.index,columns=[\"fire\"])\n",
    "\n",
    "y1_test_pred = classification1.predict(X1_test_scaled)\n",
    "probability = classification1.predict_proba(X1_test_scaled)\n",
    "y1_test_pred_df = pd.DataFrame(y1_test_pred,index=y1_test.index,columns=[\"fire\" + \"_pred\"])\n"
   ]
  },
  {
   "cell_type": "code",
   "execution_count": 138,
   "metadata": {},
   "outputs": [
    {
     "name": "stdout",
     "output_type": "stream",
     "text": [
      "The accuracy of the model in the TRAIN set is:  0.44\n",
      "The kappa of the model in the TRAIN set is:  0.09437553118755926\n",
      "________________________TRAIN_______________________________________\n",
      "              precision    recall  f1-score   support\n",
      "\n",
      "           1       0.35      0.33      0.34    636326\n",
      "           2       0.28      0.18      0.22    636362\n",
      "           3       0.32      0.35      0.33    636098\n",
      "           4       0.32      0.42      0.36    636534\n",
      "\n",
      "    accuracy                           0.32   2545320\n",
      "   macro avg       0.32      0.32      0.31   2545320\n",
      "weighted avg       0.32      0.32      0.31   2545320\n",
      "\n",
      "The accuracy of the model in the TEST set is:  0.32\n",
      "The kappa of the model in the TEST set is:  0.09478584023087044\n",
      "________________________TEST_______________________________________\n",
      "              precision    recall  f1-score   support\n",
      "\n",
      "           1       0.36      0.33      0.34    272717\n",
      "           2       0.28      0.18      0.22    272681\n",
      "           3       0.32      0.35      0.33    272945\n",
      "           4       0.32      0.42      0.36    272509\n",
      "\n",
      "    accuracy                           0.32   1090852\n",
      "   macro avg       0.32      0.32      0.32   1090852\n",
      "weighted avg       0.32      0.32      0.32   1090852\n",
      "\n",
      "The values are:\n",
      "[[ 90659  41331  62206  78521]\n",
      " [ 65898  49568  77447  79768]\n",
      " [ 49202  40600  95549  87594]\n",
      " [ 49246  43674  65111 114478]]\n"
     ]
    },
    {
     "data": {
      "image/png": "[encoded data removed]",
      "text/plain": [
       "<Figure size 432x288 with 2 Axes>"
      ]
     },
     "metadata": {
      "needs_background": "light"
     },
     "output_type": "display_data"
    }
   ],
   "source": [
    "#-- 6 --\n",
    "#ERROR-MATRIX\n",
    "from sklearn.metrics import cohen_kappa_score\n",
    "from sklearn.metrics import classification_report\n",
    "\n",
    "print(\"The accuracy of the model in the TRAIN set is: \", round(classification.score(X1_train_scaled, y1_train),2))\n",
    "print(\"The kappa of the model in the TRAIN set is: \", cohen_kappa_score(y1_train,y1_train_sampled_pred))\n",
    "\n",
    "print(\"________________________TRAIN_______________________________________\")\n",
    "print(classification_report(y1_train, y1_train_sampled_pred))\n",
    "\n",
    "print(\"The accuracy of the model in the TEST set is: \", round(classification1.score(X1_test_scaled,y1_test),2))\n",
    "print(\"The kappa of the model in the TEST set is: \", cohen_kappa_score(y1_test,y1_test_pred))\n",
    "\n",
    "print(\"________________________TEST_______________________________________\")\n",
    "print(classification_report(y1_test, y1_test_pred))\n",
    "\n",
    "#-- 7 --\n",
    "#CONF-MATRIX\n",
    "from sklearn.metrics import confusion_matrix, plot_confusion_matrix\n",
    "\n",
    "print(\"The values are:\")\n",
    "print(confusion_matrix(y1_test, y1_test_pred_df))\n",
    "\n",
    "plot_confusion_matrix(classification1, X1_test_scaled, y1_test)\n",
    "plt.show()"
   ]
  },
  {
   "cell_type": "code",
   "execution_count": 141,
   "metadata": {},
   "outputs": [
    {
     "ename": "NotFittedError",
     "evalue": "This LogisticRegression instance is not fitted yet. Call 'fit' with appropriate arguments before using this estimator.",
     "output_type": "error",
     "traceback": [
      "\u001b[0;31m---------------------------------------------------------------------------\u001b[0m",
      "\u001b[0;31mNotFittedError\u001b[0m                            Traceback (most recent call last)",
      "\u001b[0;32m<ipython-input-141-7eecf6c896e6>\u001b[0m in \u001b[0;36m<module>\u001b[0;34m\u001b[0m\n\u001b[1;32m      7\u001b[0m \u001b[0movr\u001b[0m\u001b[0;34m.\u001b[0m\u001b[0mfit\u001b[0m\u001b[0;34m(\u001b[0m\u001b[0mX1_train_scaled\u001b[0m\u001b[0;34m,\u001b[0m \u001b[0my1_train\u001b[0m\u001b[0;34m)\u001b[0m\u001b[0;34m\u001b[0m\u001b[0;34m\u001b[0m\u001b[0m\n\u001b[1;32m      8\u001b[0m \u001b[0;34m\u001b[0m\u001b[0m\n\u001b[0;32m----> 9\u001b[0;31m \u001b[0myhat\u001b[0m \u001b[0;34m=\u001b[0m \u001b[0mmodel\u001b[0m\u001b[0;34m.\u001b[0m\u001b[0mpredict\u001b[0m\u001b[0;34m(\u001b[0m\u001b[0mX1_train_scaled\u001b[0m\u001b[0;34m)\u001b[0m\u001b[0;34m\u001b[0m\u001b[0;34m\u001b[0m\u001b[0m\n\u001b[0m",
      "\u001b[0;32m~/opt/anaconda3/lib/python3.8/site-packages/sklearn/linear_model/_base.py\u001b[0m in \u001b[0;36mpredict\u001b[0;34m(self, X)\u001b[0m\n\u001b[1;32m    305\u001b[0m             \u001b[0mPredicted\u001b[0m \u001b[0;32mclass\u001b[0m \u001b[0mlabel\u001b[0m \u001b[0mper\u001b[0m \u001b[0msample\u001b[0m\u001b[0;34m.\u001b[0m\u001b[0;34m\u001b[0m\u001b[0;34m\u001b[0m\u001b[0m\n\u001b[1;32m    306\u001b[0m         \"\"\"\n\u001b[0;32m--> 307\u001b[0;31m         \u001b[0mscores\u001b[0m \u001b[0;34m=\u001b[0m \u001b[0mself\u001b[0m\u001b[0;34m.\u001b[0m\u001b[0mdecision_function\u001b[0m\u001b[0;34m(\u001b[0m\u001b[0mX\u001b[0m\u001b[0;34m)\u001b[0m\u001b[0;34m\u001b[0m\u001b[0;34m\u001b[0m\u001b[0m\n\u001b[0m\u001b[1;32m    308\u001b[0m         \u001b[0;32mif\u001b[0m \u001b[0mlen\u001b[0m\u001b[0;34m(\u001b[0m\u001b[0mscores\u001b[0m\u001b[0;34m.\u001b[0m\u001b[0mshape\u001b[0m\u001b[0;34m)\u001b[0m \u001b[0;34m==\u001b[0m \u001b[0;36m1\u001b[0m\u001b[0;34m:\u001b[0m\u001b[0;34m\u001b[0m\u001b[0;34m\u001b[0m\u001b[0m\n\u001b[1;32m    309\u001b[0m             \u001b[0mindices\u001b[0m \u001b[0;34m=\u001b[0m \u001b[0;34m(\u001b[0m\u001b[0mscores\u001b[0m \u001b[0;34m>\u001b[0m \u001b[0;36m0\u001b[0m\u001b[0;34m)\u001b[0m\u001b[0;34m.\u001b[0m\u001b[0mastype\u001b[0m\u001b[0;34m(\u001b[0m\u001b[0mnp\u001b[0m\u001b[0;34m.\u001b[0m\u001b[0mint\u001b[0m\u001b[0;34m)\u001b[0m\u001b[0;34m\u001b[0m\u001b[0;34m\u001b[0m\u001b[0m\n",
      "\u001b[0;32m~/opt/anaconda3/lib/python3.8/site-packages/sklearn/linear_model/_base.py\u001b[0m in \u001b[0;36mdecision_function\u001b[0;34m(self, X)\u001b[0m\n\u001b[1;32m    278\u001b[0m             \u001b[0;32mclass\u001b[0m \u001b[0mwould\u001b[0m \u001b[0mbe\u001b[0m \u001b[0mpredicted\u001b[0m\u001b[0;34m.\u001b[0m\u001b[0;34m\u001b[0m\u001b[0;34m\u001b[0m\u001b[0m\n\u001b[1;32m    279\u001b[0m         \"\"\"\n\u001b[0;32m--> 280\u001b[0;31m         \u001b[0mcheck_is_fitted\u001b[0m\u001b[0;34m(\u001b[0m\u001b[0mself\u001b[0m\u001b[0;34m)\u001b[0m\u001b[0;34m\u001b[0m\u001b[0;34m\u001b[0m\u001b[0m\n\u001b[0m\u001b[1;32m    281\u001b[0m \u001b[0;34m\u001b[0m\u001b[0m\n\u001b[1;32m    282\u001b[0m         \u001b[0mX\u001b[0m \u001b[0;34m=\u001b[0m \u001b[0mcheck_array\u001b[0m\u001b[0;34m(\u001b[0m\u001b[0mX\u001b[0m\u001b[0;34m,\u001b[0m \u001b[0maccept_sparse\u001b[0m\u001b[0;34m=\u001b[0m\u001b[0;34m'csr'\u001b[0m\u001b[0;34m)\u001b[0m\u001b[0;34m\u001b[0m\u001b[0;34m\u001b[0m\u001b[0m\n",
      "\u001b[0;32m~/opt/anaconda3/lib/python3.8/site-packages/sklearn/utils/validation.py\u001b[0m in \u001b[0;36minner_f\u001b[0;34m(*args, **kwargs)\u001b[0m\n\u001b[1;32m     71\u001b[0m                           FutureWarning)\n\u001b[1;32m     72\u001b[0m         \u001b[0mkwargs\u001b[0m\u001b[0;34m.\u001b[0m\u001b[0mupdate\u001b[0m\u001b[0;34m(\u001b[0m\u001b[0;34m{\u001b[0m\u001b[0mk\u001b[0m\u001b[0;34m:\u001b[0m \u001b[0marg\u001b[0m \u001b[0;32mfor\u001b[0m \u001b[0mk\u001b[0m\u001b[0;34m,\u001b[0m \u001b[0marg\u001b[0m \u001b[0;32min\u001b[0m \u001b[0mzip\u001b[0m\u001b[0;34m(\u001b[0m\u001b[0msig\u001b[0m\u001b[0;34m.\u001b[0m\u001b[0mparameters\u001b[0m\u001b[0;34m,\u001b[0m \u001b[0margs\u001b[0m\u001b[0;34m)\u001b[0m\u001b[0;34m}\u001b[0m\u001b[0;34m)\u001b[0m\u001b[0;34m\u001b[0m\u001b[0;34m\u001b[0m\u001b[0m\n\u001b[0;32m---> 73\u001b[0;31m         \u001b[0;32mreturn\u001b[0m \u001b[0mf\u001b[0m\u001b[0;34m(\u001b[0m\u001b[0;34m**\u001b[0m\u001b[0mkwargs\u001b[0m\u001b[0;34m)\u001b[0m\u001b[0;34m\u001b[0m\u001b[0;34m\u001b[0m\u001b[0m\n\u001b[0m\u001b[1;32m     74\u001b[0m     \u001b[0;32mreturn\u001b[0m \u001b[0minner_f\u001b[0m\u001b[0;34m\u001b[0m\u001b[0;34m\u001b[0m\u001b[0m\n\u001b[1;32m     75\u001b[0m \u001b[0;34m\u001b[0m\u001b[0m\n",
      "\u001b[0;32m~/opt/anaconda3/lib/python3.8/site-packages/sklearn/utils/validation.py\u001b[0m in \u001b[0;36mcheck_is_fitted\u001b[0;34m(estimator, attributes, msg, all_or_any)\u001b[0m\n\u001b[1;32m   1018\u001b[0m \u001b[0;34m\u001b[0m\u001b[0m\n\u001b[1;32m   1019\u001b[0m     \u001b[0;32mif\u001b[0m \u001b[0;32mnot\u001b[0m \u001b[0mattrs\u001b[0m\u001b[0;34m:\u001b[0m\u001b[0;34m\u001b[0m\u001b[0;34m\u001b[0m\u001b[0m\n\u001b[0;32m-> 1020\u001b[0;31m         \u001b[0;32mraise\u001b[0m \u001b[0mNotFittedError\u001b[0m\u001b[0;34m(\u001b[0m\u001b[0mmsg\u001b[0m \u001b[0;34m%\u001b[0m \u001b[0;34m{\u001b[0m\u001b[0;34m'name'\u001b[0m\u001b[0;34m:\u001b[0m \u001b[0mtype\u001b[0m\u001b[0;34m(\u001b[0m\u001b[0mestimator\u001b[0m\u001b[0;34m)\u001b[0m\u001b[0;34m.\u001b[0m\u001b[0m__name__\u001b[0m\u001b[0;34m}\u001b[0m\u001b[0;34m)\u001b[0m\u001b[0;34m\u001b[0m\u001b[0;34m\u001b[0m\u001b[0m\n\u001b[0m\u001b[1;32m   1021\u001b[0m \u001b[0;34m\u001b[0m\u001b[0m\n\u001b[1;32m   1022\u001b[0m \u001b[0;34m\u001b[0m\u001b[0m\n",
      "\u001b[0;31mNotFittedError\u001b[0m: This LogisticRegression instance is not fitted yet. Call 'fit' with appropriate arguments before using this estimator."
     ]
    }
   ],
   "source": [
    "from sklearn.datasets import make_classification\n",
    "from sklearn.linear_model import LogisticRegression\n",
    "from sklearn.multiclass import OneVsRestClassifier\n",
    "\n",
    "model = LogisticRegression()\n",
    "ovr = OneVsRestClassifier(model)\n",
    "ovr.fit(X1_train_scaled, y1_train)\n",
    "\n",
    "yhat = model.predict(X1_train_scaled)"
   ]
  },
  {
   "cell_type": "code",
   "execution_count": null,
   "metadata": {},
   "outputs": [],
   "source": [
    "classification1= model\n",
    "\n",
    "y1_train_sampled_pred = yhat\n",
    "y1_train_sampled_pred_df = pd.DataFrame(y1_train_sampled_pred,index=y1_train.index,columns=[\"fire\"])\n",
    "\n",
    "y1_test_pred = classification1.predict(X1_test_scaled)\n",
    "probability = classification1.predict_proba(X1_test_scaled)\n",
    "y1_test_pred_df = pd.DataFrame(y1_test_pred,index=y1_test.index,columns=[\"fire\" + \"_pred\"])\n"
   ]
  },
  {
   "cell_type": "code",
   "execution_count": null,
   "metadata": {},
   "outputs": [],
   "source": [
    "#-- 6 --\n",
    "#ERROR-MATRIX\n",
    "from sklearn.metrics import cohen_kappa_score\n",
    "from sklearn.metrics import classification_report\n",
    "\n",
    "print(\"The accuracy of the model in the TRAIN set is: \", round(classification.score(X1_train_scaled, y1_train),2))\n",
    "print(\"The kappa of the model in the TRAIN set is: \", cohen_kappa_score(y1_train,y1_train_sampled_pred))\n",
    "\n",
    "print(\"________________________TRAIN_______________________________________\")\n",
    "print(classification_report(y1_train, y1_train_sampled_pred))\n",
    "\n",
    "print(\"The accuracy of the model in the TEST set is: \", round(classification1.score(X1_test_scaled,y1_test),2))\n",
    "print(\"The kappa of the model in the TEST set is: \", cohen_kappa_score(y1_test,y1_test_pred))\n",
    "\n",
    "print(\"________________________TEST_______________________________________\")\n",
    "print(classification_report(y1_test, y1_test_pred))\n",
    "\n",
    "#-- 7 --\n",
    "#CONF-MATRIX\n",
    "from sklearn.metrics import confusion_matrix, plot_confusion_matrix\n",
    "\n",
    "print(\"The values are:\")\n",
    "print(confusion_matrix(y1_test, y1_test_pred_df))\n",
    "\n",
    "plot_confusion_matrix(classification1, X1_test_scaled, y1_test)\n",
    "plt.show()"
   ]
  },
  {
   "cell_type": "code",
   "execution_count": 130,
   "metadata": {},
   "outputs": [
    {
     "data": {
      "text/plain": [
       "[1, 2, 3, 4]"
      ]
     },
     "execution_count": 130,
     "metadata": {},
     "output_type": "execute_result"
    }
   ],
   "source": [
    "categories=list(df_bal[\"fire_size\"].unique())\n",
    "categories"
   ]
  },
  {
   "cell_type": "code",
   "execution_count": null,
   "metadata": {},
   "outputs": [],
   "source": []
  },
  {
   "cell_type": "code",
   "execution_count": null,
   "metadata": {},
   "outputs": [],
   "source": [
    "from sklearn.linear_model import LogisticClassification\n",
    "from sklearn.pipeline import Pipeline\n",
    "from sklearn.metrics import accuracy_score\n",
    "from sklearn.multiclass import OneVsRestClassifier# Using pipeline for applying logistic regression and one vs rest classifier\n",
    "\n",
    "\n",
    "LogClas_pipeline = Pipeline([\n",
    "                ('clf', OneVsRestClassifier(LogisticClassification(solver='sag'), n_jobs=-1)),\n",
    "            ])\n",
    "\n",
    "\n",
    "\n",
    "for category in categories:\n",
    "    print('**Processing {} comments...**'.format(category))\n",
    "    \n",
    "    # Training logistic regression model on train data\n",
    "    LogClas_pipeline.fit(X1_train, y1_train)\n",
    "    \n",
    "    # calculating test accuracy\n",
    "    prediction = LogReg_pipeline.predict(X1_test)\n",
    "    print('Test accuracy is {}'.format(accuracy_score(y1_test, prediction)))\n",
    "    print(\"\\n\")\n",
    "    print('Test kappa is {}'.format(cohen_kappa_score(y1_test, prediction)))\n",
    "    print(\"\\n\")"
   ]
  },
  {
   "cell_type": "code",
   "execution_count": null,
   "metadata": {},
   "outputs": [],
   "source": [
    "# define the model\n",
    "model = Sequential()\n",
    "model.add(Dense(20, input_dim=n_inputs, kernel_initializer='he_uniform', activation='relu'))\n",
    "model.add(Dense(n_outputs, activation='sigmoid'))\n",
    "model.compile(loss='binary_crossentropy', optimizer='adam')"
   ]
  },
  {
   "cell_type": "code",
   "execution_count": null,
   "metadata": {},
   "outputs": [],
   "source": []
  },
  {
   "cell_type": "code",
   "execution_count": null,
   "metadata": {},
   "outputs": [],
   "source": []
  },
  {
   "cell_type": "code",
   "execution_count": null,
   "metadata": {},
   "outputs": [],
   "source": []
  },
  {
   "cell_type": "code",
   "execution_count": null,
   "metadata": {},
   "outputs": [],
   "source": []
  }
 ],
 "metadata": {
  "kernelspec": {
   "display_name": "Python 3",
   "language": "python",
   "name": "python3"
  },
  "language_info": {
   "codemirror_mode": {
    "name": "ipython",
    "version": 3
   },
   "file_extension": ".py",
   "mimetype": "text/x-python",
   "name": "python",
   "nbconvert_exporter": "python",
   "pygments_lexer": "ipython3",
   "version": "3.8.3"
  }
 },
 "nbformat": 4,
 "nbformat_minor": 4
}
